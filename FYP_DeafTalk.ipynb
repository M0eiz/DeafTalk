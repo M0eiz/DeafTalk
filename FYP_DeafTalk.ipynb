{
  "nbformat": 4,
  "nbformat_minor": 0,
  "metadata": {
    "accelerator": "TPU",
    "colab": {
      "provenance": [],
      "gpuType": "V28",
      "include_colab_link": true
    },
    "interpreter": {
      "hash": "3f06a60cda354d81c2225d2767ee5b44cb4579f2789781878c56ddc9e6e490bb"
    },
    "kernelspec": {
      "display_name": "Python 3.8.8 64-bit ('detectron2': conda)",
      "name": "python3"
    },
    "language_info": {
      "name": "python",
      "version": ""
    }
  },
  "cells": [
    {
      "cell_type": "markdown",
      "metadata": {
        "id": "view-in-github",
        "colab_type": "text"
      },
      "source": [
        "<a href=\"https://colab.research.google.com/github/M0eiz/DeafTalk/blob/main/FYP_DeafTalk.ipynb\" target=\"_parent\"><img src=\"https://colab.research.google.com/assets/colab-badge.svg\" alt=\"Open In Colab\"/></a>"
      ]
    },
    {
      "cell_type": "code",
      "metadata": {
        "colab": {
          "base_uri": "https://localhost:8080/"
        },
        "id": "VgsqJR2YbbR1",
        "outputId": "6d6cc0e9-1b77-4e7c-a932-36c5699673e9"
      },
      "source": [
        "!pip install tensorflow==2.5.0"
      ],
      "execution_count": null,
      "outputs": [
        {
          "output_type": "stream",
          "name": "stdout",
          "text": [
            "Collecting tensorflow==2.5.0\n",
            "  Downloading tensorflow-2.5.0-cp37-cp37m-manylinux2010_x86_64.whl (454.3 MB)\n",
            "\u001b[K     |████████████████████████████████| 454.3 MB 17 kB/s \n",
            "\u001b[?25hCollecting keras-nightly~=2.5.0.dev\n",
            "  Downloading keras_nightly-2.5.0.dev2021032900-py2.py3-none-any.whl (1.2 MB)\n",
            "\u001b[K     |████████████████████████████████| 1.2 MB 36.4 MB/s \n",
            "\u001b[?25hRequirement already satisfied: absl-py~=0.10 in /usr/local/lib/python3.7/dist-packages (from tensorflow==2.5.0) (0.12.0)\n",
            "Requirement already satisfied: wheel~=0.35 in /usr/local/lib/python3.7/dist-packages (from tensorflow==2.5.0) (0.37.0)\n",
            "Requirement already satisfied: h5py~=3.1.0 in /usr/local/lib/python3.7/dist-packages (from tensorflow==2.5.0) (3.1.0)\n",
            "Requirement already satisfied: flatbuffers~=1.12.0 in /usr/local/lib/python3.7/dist-packages (from tensorflow==2.5.0) (1.12)\n",
            "Requirement already satisfied: google-pasta~=0.2 in /usr/local/lib/python3.7/dist-packages (from tensorflow==2.5.0) (0.2.0)\n",
            "Requirement already satisfied: opt-einsum~=3.3.0 in /usr/local/lib/python3.7/dist-packages (from tensorflow==2.5.0) (3.3.0)\n",
            "Requirement already satisfied: numpy~=1.19.2 in /usr/local/lib/python3.7/dist-packages (from tensorflow==2.5.0) (1.19.5)\n",
            "Requirement already satisfied: termcolor~=1.1.0 in /usr/local/lib/python3.7/dist-packages (from tensorflow==2.5.0) (1.1.0)\n",
            "Collecting grpcio~=1.34.0\n",
            "  Downloading grpcio-1.34.1-cp37-cp37m-manylinux2014_x86_64.whl (4.0 MB)\n",
            "\u001b[K     |████████████████████████████████| 4.0 MB 24.0 MB/s \n",
            "\u001b[?25hRequirement already satisfied: astunparse~=1.6.3 in /usr/local/lib/python3.7/dist-packages (from tensorflow==2.5.0) (1.6.3)\n",
            "Requirement already satisfied: keras-preprocessing~=1.1.2 in /usr/local/lib/python3.7/dist-packages (from tensorflow==2.5.0) (1.1.2)\n",
            "Requirement already satisfied: gast==0.4.0 in /usr/local/lib/python3.7/dist-packages (from tensorflow==2.5.0) (0.4.0)\n",
            "Requirement already satisfied: tensorboard~=2.5 in /usr/local/lib/python3.7/dist-packages (from tensorflow==2.5.0) (2.6.0)\n",
            "Requirement already satisfied: wrapt~=1.12.1 in /usr/local/lib/python3.7/dist-packages (from tensorflow==2.5.0) (1.12.1)\n",
            "Requirement already satisfied: protobuf>=3.9.2 in /usr/local/lib/python3.7/dist-packages (from tensorflow==2.5.0) (3.17.3)\n",
            "Requirement already satisfied: six~=1.15.0 in /usr/local/lib/python3.7/dist-packages (from tensorflow==2.5.0) (1.15.0)\n",
            "Requirement already satisfied: typing-extensions~=3.7.4 in /usr/local/lib/python3.7/dist-packages (from tensorflow==2.5.0) (3.7.4.3)\n",
            "Collecting tensorflow-estimator<2.6.0,>=2.5.0rc0\n",
            "  Downloading tensorflow_estimator-2.5.0-py2.py3-none-any.whl (462 kB)\n",
            "\u001b[K     |████████████████████████████████| 462 kB 35.9 MB/s \n",
            "\u001b[?25hRequirement already satisfied: cached-property in /usr/local/lib/python3.7/dist-packages (from h5py~=3.1.0->tensorflow==2.5.0) (1.5.2)\n",
            "Requirement already satisfied: werkzeug>=0.11.15 in /usr/local/lib/python3.7/dist-packages (from tensorboard~=2.5->tensorflow==2.5.0) (1.0.1)\n",
            "Requirement already satisfied: setuptools>=41.0.0 in /usr/local/lib/python3.7/dist-packages (from tensorboard~=2.5->tensorflow==2.5.0) (57.4.0)\n",
            "Requirement already satisfied: google-auth<2,>=1.6.3 in /usr/local/lib/python3.7/dist-packages (from tensorboard~=2.5->tensorflow==2.5.0) (1.35.0)\n",
            "Requirement already satisfied: google-auth-oauthlib<0.5,>=0.4.1 in /usr/local/lib/python3.7/dist-packages (from tensorboard~=2.5->tensorflow==2.5.0) (0.4.6)\n",
            "Requirement already satisfied: tensorboard-plugin-wit>=1.6.0 in /usr/local/lib/python3.7/dist-packages (from tensorboard~=2.5->tensorflow==2.5.0) (1.8.0)\n",
            "Requirement already satisfied: markdown>=2.6.8 in /usr/local/lib/python3.7/dist-packages (from tensorboard~=2.5->tensorflow==2.5.0) (3.3.4)\n",
            "Requirement already satisfied: tensorboard-data-server<0.7.0,>=0.6.0 in /usr/local/lib/python3.7/dist-packages (from tensorboard~=2.5->tensorflow==2.5.0) (0.6.1)\n",
            "Requirement already satisfied: requests<3,>=2.21.0 in /usr/local/lib/python3.7/dist-packages (from tensorboard~=2.5->tensorflow==2.5.0) (2.23.0)\n",
            "Requirement already satisfied: cachetools<5.0,>=2.0.0 in /usr/local/lib/python3.7/dist-packages (from google-auth<2,>=1.6.3->tensorboard~=2.5->tensorflow==2.5.0) (4.2.4)\n",
            "Requirement already satisfied: pyasn1-modules>=0.2.1 in /usr/local/lib/python3.7/dist-packages (from google-auth<2,>=1.6.3->tensorboard~=2.5->tensorflow==2.5.0) (0.2.8)\n",
            "Requirement already satisfied: rsa<5,>=3.1.4 in /usr/local/lib/python3.7/dist-packages (from google-auth<2,>=1.6.3->tensorboard~=2.5->tensorflow==2.5.0) (4.7.2)\n",
            "Requirement already satisfied: requests-oauthlib>=0.7.0 in /usr/local/lib/python3.7/dist-packages (from google-auth-oauthlib<0.5,>=0.4.1->tensorboard~=2.5->tensorflow==2.5.0) (1.3.0)\n",
            "Requirement already satisfied: importlib-metadata in /usr/local/lib/python3.7/dist-packages (from markdown>=2.6.8->tensorboard~=2.5->tensorflow==2.5.0) (4.8.1)\n",
            "Requirement already satisfied: pyasn1<0.5.0,>=0.4.6 in /usr/local/lib/python3.7/dist-packages (from pyasn1-modules>=0.2.1->google-auth<2,>=1.6.3->tensorboard~=2.5->tensorflow==2.5.0) (0.4.8)\n",
            "Requirement already satisfied: idna<3,>=2.5 in /usr/local/lib/python3.7/dist-packages (from requests<3,>=2.21.0->tensorboard~=2.5->tensorflow==2.5.0) (2.10)\n",
            "Requirement already satisfied: certifi>=2017.4.17 in /usr/local/lib/python3.7/dist-packages (from requests<3,>=2.21.0->tensorboard~=2.5->tensorflow==2.5.0) (2021.5.30)\n",
            "Requirement already satisfied: urllib3!=1.25.0,!=1.25.1,<1.26,>=1.21.1 in /usr/local/lib/python3.7/dist-packages (from requests<3,>=2.21.0->tensorboard~=2.5->tensorflow==2.5.0) (1.24.3)\n",
            "Requirement already satisfied: chardet<4,>=3.0.2 in /usr/local/lib/python3.7/dist-packages (from requests<3,>=2.21.0->tensorboard~=2.5->tensorflow==2.5.0) (3.0.4)\n",
            "Requirement already satisfied: oauthlib>=3.0.0 in /usr/local/lib/python3.7/dist-packages (from requests-oauthlib>=0.7.0->google-auth-oauthlib<0.5,>=0.4.1->tensorboard~=2.5->tensorflow==2.5.0) (3.1.1)\n",
            "Requirement already satisfied: zipp>=0.5 in /usr/local/lib/python3.7/dist-packages (from importlib-metadata->markdown>=2.6.8->tensorboard~=2.5->tensorflow==2.5.0) (3.6.0)\n",
            "Installing collected packages: grpcio, tensorflow-estimator, keras-nightly, tensorflow\n",
            "  Attempting uninstall: grpcio\n",
            "    Found existing installation: grpcio 1.41.0\n",
            "    Uninstalling grpcio-1.41.0:\n",
            "      Successfully uninstalled grpcio-1.41.0\n",
            "  Attempting uninstall: tensorflow-estimator\n",
            "    Found existing installation: tensorflow-estimator 2.6.0\n",
            "    Uninstalling tensorflow-estimator-2.6.0:\n",
            "      Successfully uninstalled tensorflow-estimator-2.6.0\n",
            "  Attempting uninstall: tensorflow\n",
            "    Found existing installation: tensorflow 2.6.0\n",
            "    Uninstalling tensorflow-2.6.0:\n",
            "      Successfully uninstalled tensorflow-2.6.0\n",
            "Successfully installed grpcio-1.34.1 keras-nightly-2.5.0.dev2021032900 tensorflow-2.5.0 tensorflow-estimator-2.5.0\n"
          ]
        }
      ]
    },
    {
      "cell_type": "code",
      "metadata": {
        "id": "qhl8lqVamEty",
        "colab": {
          "base_uri": "https://localhost:8080/"
        },
        "outputId": "9984073f-7401-4ca1-8361-f81dd93dcb9b"
      },
      "source": [
        "!pip install -q tflite-model-maker\n",
        "!pip install -q pycocotools"
      ],
      "execution_count": null,
      "outputs": [
        {
          "output_type": "stream",
          "name": "stdout",
          "text": [
            "\u001b[K     |████████████████████████████████| 591 kB 5.3 MB/s \n",
            "\u001b[K     |████████████████████████████████| 840 kB 42.4 MB/s \n",
            "\u001b[K     |████████████████████████████████| 103 kB 54.7 MB/s \n",
            "\u001b[K     |████████████████████████████████| 1.1 MB 44.7 MB/s \n",
            "\u001b[K     |████████████████████████████████| 64 kB 2.4 MB/s \n",
            "\u001b[K     |████████████████████████████████| 1.1 MB 64.2 MB/s \n",
            "\u001b[K     |████████████████████████████████| 120 kB 54.7 MB/s \n",
            "\u001b[K     |████████████████████████████████| 87 kB 4.9 MB/s \n",
            "\u001b[K     |████████████████████████████████| 1.2 MB 40.6 MB/s \n",
            "\u001b[K     |████████████████████████████████| 6.3 MB 23.2 MB/s \n",
            "\u001b[K     |████████████████████████████████| 213 kB 72.7 MB/s \n",
            "\u001b[K     |████████████████████████████████| 596 kB 67.3 MB/s \n",
            "\u001b[K     |████████████████████████████████| 47.6 MB 29 kB/s \n",
            "\u001b[K     |████████████████████████████████| 99 kB 6.6 MB/s \n",
            "\u001b[K     |████████████████████████████████| 352 kB 54.6 MB/s \n",
            "\u001b[K     |████████████████████████████████| 207 kB 48.7 MB/s \n",
            "\u001b[?25h  Building wheel for fire (setup.py) ... \u001b[?25l\u001b[?25hdone\n",
            "  Building wheel for py-cpuinfo (setup.py) ... \u001b[?25l\u001b[?25hdone\n"
          ]
        }
      ]
    },
    {
      "cell_type": "markdown",
      "metadata": {
        "id": "l6lRhVK9Q_0U"
      },
      "source": [
        "Import the required packages."
      ]
    },
    {
      "cell_type": "code",
      "metadata": {
        "id": "XtxiUeZEiXpt"
      },
      "source": [
        "import numpy as np\n",
        "import os\n",
        "\n",
        "from tflite_model_maker.config import ExportFormat\n",
        "from tflite_model_maker import model_spec\n",
        "from tflite_model_maker import object_detector\n",
        "\n",
        "import tensorflow as tf\n",
        "assert tf.__version__.startswith('2')\n",
        "\n",
        "tf.get_logger().setLevel('ERROR')\n",
        "from absl import logging\n",
        "logging.set_verbosity(logging.ERROR)"
      ],
      "execution_count": null,
      "outputs": []
    },
    {
      "cell_type": "code",
      "metadata": {
        "colab": {
          "base_uri": "https://localhost:8080/"
        },
        "id": "Vz7zLQ9-H7TV",
        "outputId": "1eea7e8f-10bf-46c0-8c96-4025927d94eb"
      },
      "source": [
        "%cd ..\n",
        "from google.colab import drive\n",
        "drive.mount('/content/gdrive')"
      ],
      "execution_count": null,
      "outputs": [
        {
          "output_type": "stream",
          "name": "stdout",
          "text": [
            "/\n",
            "Mounted at /content/gdrive\n"
          ]
        }
      ]
    },
    {
      "cell_type": "code",
      "metadata": {
        "id": "CtdZ-JDwMimd"
      },
      "source": [
        "spec = model_spec.get('efficientdet_lite2')"
      ],
      "execution_count": null,
      "outputs": []
    },
    {
      "cell_type": "code",
      "metadata": {
        "id": "I7wwyI2gLKns"
      },
      "source": [
        "train_data = object_detector.DataLoader.from_pascal_voc('/content/gdrive/MyDrive/images/train', '/content/gdrive/MyDrive/images/train',['Bathroom', 'Hello', 'Help', 'How are you?' , 'I am Fine', 'No', 'Sorry', 'Thanks' , 'Yes' , 'Sick' , 'Hurt' , 'Doctor' , 'Fire' , 'Hospital' , 'Call' ])"
      ],
      "execution_count": null,
      "outputs": []
    },
    {
      "cell_type": "markdown",
      "source": [],
      "metadata": {
        "id": "N7WhWdDgFWjx"
      }
    },
    {
      "cell_type": "code",
      "metadata": {
        "id": "D_nGbWyKMANB"
      },
      "source": [
        "validation_data = object_detector.DataLoader.from_pascal_voc('/content/gdrive/MyDrive/images/test','/content/gdrive/MyDrive/images/test', ['Bathroom', 'Hello', 'Help', 'How are you?' , 'I am Fine', 'No', 'Sorry', 'Thanks' , 'Yes' , 'Sick' , 'Hurt' , 'Doctor' , 'Fire' , 'Hospital' , 'Call' ])"
      ],
      "execution_count": null,
      "outputs": []
    },
    {
      "cell_type": "markdown",
      "metadata": {
        "id": "2uZkLR6N6gDR"
      },
      "source": [
        "**Train the TensorFlow model with the training data.**"
      ]
    },
    {
      "cell_type": "code",
      "metadata": {
        "colab": {
          "base_uri": "https://localhost:8080/"
        },
        "id": "kwlYdTcg63xy",
        "outputId": "6a4a72a1-26ea-44bf-a070-53a801261bbd"
      },
      "source": [
        "model = object_detector.create(train_data, model_spec=spec, epochs=100, batch_size=8, train_whole_model=True, validation_data=validation_data)"
      ],
      "execution_count": null,
      "outputs": [
        {
          "output_type": "stream",
          "name": "stdout",
          "text": [
            "Epoch 1/100\n",
            "24/24 [==============================] - 373s 14s/step - det_loss: 2.0391 - cls_loss: 1.4339 - box_loss: 0.0121 - reg_l2_loss: 0.0782 - loss: 2.1174 - learning_rate: 0.0090 - gradient_norm: 1.6297 - val_det_loss: 1.9244 - val_cls_loss: 1.3635 - val_box_loss: 0.0112 - val_reg_l2_loss: 0.0782 - val_loss: 2.0026\n",
            "Epoch 2/100\n",
            "24/24 [==============================] - 318s 13s/step - det_loss: 1.8927 - cls_loss: 1.3777 - box_loss: 0.0103 - reg_l2_loss: 0.0782 - loss: 1.9709 - learning_rate: 0.0100 - gradient_norm: 1.7561 - val_det_loss: 1.7890 - val_cls_loss: 1.3512 - val_box_loss: 0.0088 - val_reg_l2_loss: 0.0782 - val_loss: 1.8672\n",
            "Epoch 3/100\n",
            "24/24 [==============================] - 319s 13s/step - det_loss: 1.7554 - cls_loss: 1.3278 - box_loss: 0.0086 - reg_l2_loss: 0.0782 - loss: 1.8336 - learning_rate: 0.0100 - gradient_norm: 2.8942 - val_det_loss: 1.6521 - val_cls_loss: 1.2902 - val_box_loss: 0.0072 - val_reg_l2_loss: 0.0783 - val_loss: 1.7304\n",
            "Epoch 4/100\n",
            "24/24 [==============================] - 319s 13s/step - det_loss: 1.5394 - cls_loss: 1.2086 - box_loss: 0.0066 - reg_l2_loss: 0.0783 - loss: 1.6177 - learning_rate: 0.0100 - gradient_norm: 3.3250 - val_det_loss: 1.5673 - val_cls_loss: 1.2156 - val_box_loss: 0.0070 - val_reg_l2_loss: 0.0783 - val_loss: 1.6456\n",
            "Epoch 5/100\n",
            "24/24 [==============================] - 324s 14s/step - det_loss: 1.2408 - cls_loss: 0.9965 - box_loss: 0.0049 - reg_l2_loss: 0.0783 - loss: 1.3191 - learning_rate: 0.0099 - gradient_norm: 3.2752 - val_det_loss: 1.2253 - val_cls_loss: 0.9617 - val_box_loss: 0.0053 - val_reg_l2_loss: 0.0784 - val_loss: 1.3037\n",
            "Epoch 6/100\n",
            "24/24 [==============================] - 321s 13s/step - det_loss: 0.9698 - cls_loss: 0.7736 - box_loss: 0.0039 - reg_l2_loss: 0.0784 - loss: 1.0482 - learning_rate: 0.0099 - gradient_norm: 3.4279 - val_det_loss: 0.9343 - val_cls_loss: 0.6891 - val_box_loss: 0.0049 - val_reg_l2_loss: 0.0784 - val_loss: 1.0127\n",
            "Epoch 7/100\n",
            "24/24 [==============================] - 322s 13s/step - det_loss: 0.8052 - cls_loss: 0.6314 - box_loss: 0.0035 - reg_l2_loss: 0.0785 - loss: 0.8837 - learning_rate: 0.0099 - gradient_norm: 3.6457 - val_det_loss: 0.7226 - val_cls_loss: 0.5992 - val_box_loss: 0.0025 - val_reg_l2_loss: 0.0785 - val_loss: 0.8011\n",
            "Epoch 8/100\n",
            "24/24 [==============================] - 319s 13s/step - det_loss: 0.7203 - cls_loss: 0.5612 - box_loss: 0.0032 - reg_l2_loss: 0.0785 - loss: 0.7989 - learning_rate: 0.0099 - gradient_norm: 3.8515 - val_det_loss: 0.6854 - val_cls_loss: 0.5125 - val_box_loss: 0.0035 - val_reg_l2_loss: 0.0786 - val_loss: 0.7640\n",
            "Epoch 9/100\n",
            "24/24 [==============================] - 331s 14s/step - det_loss: 0.6478 - cls_loss: 0.5040 - box_loss: 0.0029 - reg_l2_loss: 0.0786 - loss: 0.7264 - learning_rate: 0.0098 - gradient_norm: 3.6793 - val_det_loss: 0.6817 - val_cls_loss: 0.5047 - val_box_loss: 0.0035 - val_reg_l2_loss: 0.0786 - val_loss: 0.7603\n",
            "Epoch 10/100\n",
            "24/24 [==============================] - 322s 13s/step - det_loss: 0.6212 - cls_loss: 0.4759 - box_loss: 0.0029 - reg_l2_loss: 0.0786 - loss: 0.6998 - learning_rate: 0.0098 - gradient_norm: 3.8060 - val_det_loss: 0.6153 - val_cls_loss: 0.4324 - val_box_loss: 0.0037 - val_reg_l2_loss: 0.0787 - val_loss: 0.6940\n",
            "Epoch 11/100\n",
            "24/24 [==============================] - 322s 13s/step - det_loss: 0.5707 - cls_loss: 0.4384 - box_loss: 0.0026 - reg_l2_loss: 0.0787 - loss: 0.6494 - learning_rate: 0.0097 - gradient_norm: 3.9205 - val_det_loss: 0.5500 - val_cls_loss: 0.3952 - val_box_loss: 0.0031 - val_reg_l2_loss: 0.0787 - val_loss: 0.6287\n",
            "Epoch 12/100\n",
            "24/24 [==============================] - 321s 13s/step - det_loss: 0.5442 - cls_loss: 0.4119 - box_loss: 0.0026 - reg_l2_loss: 0.0788 - loss: 0.6230 - learning_rate: 0.0097 - gradient_norm: 3.9157 - val_det_loss: 0.7380 - val_cls_loss: 0.5368 - val_box_loss: 0.0040 - val_reg_l2_loss: 0.0788 - val_loss: 0.8167\n",
            "Epoch 13/100\n",
            "24/24 [==============================] - 324s 14s/step - det_loss: 0.4958 - cls_loss: 0.3856 - box_loss: 0.0022 - reg_l2_loss: 0.0788 - loss: 0.5746 - learning_rate: 0.0096 - gradient_norm: 3.2512 - val_det_loss: 0.4570 - val_cls_loss: 0.3465 - val_box_loss: 0.0022 - val_reg_l2_loss: 0.0788 - val_loss: 0.5358\n",
            "Epoch 14/100\n",
            "24/24 [==============================] - 324s 14s/step - det_loss: 0.4620 - cls_loss: 0.3631 - box_loss: 0.0020 - reg_l2_loss: 0.0789 - loss: 0.5409 - learning_rate: 0.0095 - gradient_norm: 3.1830 - val_det_loss: 0.5947 - val_cls_loss: 0.3968 - val_box_loss: 0.0040 - val_reg_l2_loss: 0.0789 - val_loss: 0.6736\n",
            "Epoch 15/100\n",
            "24/24 [==============================] - 323s 13s/step - det_loss: 0.4307 - cls_loss: 0.3337 - box_loss: 0.0019 - reg_l2_loss: 0.0789 - loss: 0.5096 - learning_rate: 0.0095 - gradient_norm: 3.4443 - val_det_loss: 0.5606 - val_cls_loss: 0.3825 - val_box_loss: 0.0036 - val_reg_l2_loss: 0.0789 - val_loss: 0.6395\n",
            "Epoch 16/100\n",
            "24/24 [==============================] - 322s 13s/step - det_loss: 0.4230 - cls_loss: 0.3280 - box_loss: 0.0019 - reg_l2_loss: 0.0789 - loss: 0.5020 - learning_rate: 0.0094 - gradient_norm: 3.0999 - val_det_loss: 0.4018 - val_cls_loss: 0.3217 - val_box_loss: 0.0016 - val_reg_l2_loss: 0.0790 - val_loss: 0.4808\n",
            "Epoch 17/100\n",
            "24/24 [==============================] - 321s 13s/step - det_loss: 0.3794 - cls_loss: 0.3050 - box_loss: 0.0015 - reg_l2_loss: 0.0790 - loss: 0.4584 - learning_rate: 0.0093 - gradient_norm: 2.9411 - val_det_loss: 0.3360 - val_cls_loss: 0.2793 - val_box_loss: 0.0011 - val_reg_l2_loss: 0.0790 - val_loss: 0.4150\n",
            "Epoch 18/100\n",
            "24/24 [==============================] - 328s 14s/step - det_loss: 0.3864 - cls_loss: 0.3033 - box_loss: 0.0017 - reg_l2_loss: 0.0790 - loss: 0.4654 - learning_rate: 0.0092 - gradient_norm: 3.0728 - val_det_loss: 0.3417 - val_cls_loss: 0.2785 - val_box_loss: 0.0013 - val_reg_l2_loss: 0.0790 - val_loss: 0.4207\n",
            "Epoch 19/100\n",
            "24/24 [==============================] - 331s 14s/step - det_loss: 0.3579 - cls_loss: 0.2855 - box_loss: 0.0014 - reg_l2_loss: 0.0790 - loss: 0.4369 - learning_rate: 0.0092 - gradient_norm: 2.8320 - val_det_loss: 0.4963 - val_cls_loss: 0.3359 - val_box_loss: 0.0032 - val_reg_l2_loss: 0.0790 - val_loss: 0.5754\n",
            "Epoch 20/100\n",
            "24/24 [==============================] - 333s 14s/step - det_loss: 0.3643 - cls_loss: 0.2890 - box_loss: 0.0015 - reg_l2_loss: 0.0790 - loss: 0.4433 - learning_rate: 0.0091 - gradient_norm: 2.9052 - val_det_loss: 0.4128 - val_cls_loss: 0.3269 - val_box_loss: 0.0017 - val_reg_l2_loss: 0.0791 - val_loss: 0.4919\n",
            "Epoch 21/100\n",
            "24/24 [==============================] - 325s 14s/step - det_loss: 0.3475 - cls_loss: 0.2748 - box_loss: 0.0015 - reg_l2_loss: 0.0791 - loss: 0.4266 - learning_rate: 0.0090 - gradient_norm: 2.7764 - val_det_loss: 0.3293 - val_cls_loss: 0.2651 - val_box_loss: 0.0013 - val_reg_l2_loss: 0.0791 - val_loss: 0.4084\n",
            "Epoch 22/100\n",
            "24/24 [==============================] - 323s 13s/step - det_loss: 0.3585 - cls_loss: 0.2735 - box_loss: 0.0017 - reg_l2_loss: 0.0791 - loss: 0.4376 - learning_rate: 0.0089 - gradient_norm: 3.0433 - val_det_loss: 0.2883 - val_cls_loss: 0.2233 - val_box_loss: 0.0013 - val_reg_l2_loss: 0.0791 - val_loss: 0.3674\n",
            "Epoch 23/100\n",
            "24/24 [==============================] - 323s 13s/step - det_loss: 0.3558 - cls_loss: 0.2712 - box_loss: 0.0017 - reg_l2_loss: 0.0791 - loss: 0.4349 - learning_rate: 0.0088 - gradient_norm: 3.1470 - val_det_loss: 0.4420 - val_cls_loss: 0.3040 - val_box_loss: 0.0028 - val_reg_l2_loss: 0.0791 - val_loss: 0.5212\n",
            "Epoch 24/100\n",
            "24/24 [==============================] - 323s 14s/step - det_loss: 0.3362 - cls_loss: 0.2552 - box_loss: 0.0016 - reg_l2_loss: 0.0791 - loss: 0.4153 - learning_rate: 0.0087 - gradient_norm: 2.7327 - val_det_loss: 0.3171 - val_cls_loss: 0.2668 - val_box_loss: 0.0010 - val_reg_l2_loss: 0.0791 - val_loss: 0.3962\n",
            "Epoch 25/100\n",
            "24/24 [==============================] - 327s 14s/step - det_loss: 0.3193 - cls_loss: 0.2540 - box_loss: 0.0013 - reg_l2_loss: 0.0792 - loss: 0.3985 - learning_rate: 0.0086 - gradient_norm: 3.2559 - val_det_loss: 0.2923 - val_cls_loss: 0.2327 - val_box_loss: 0.0012 - val_reg_l2_loss: 0.0792 - val_loss: 0.3715\n",
            "Epoch 26/100\n",
            "24/24 [==============================] - 327s 14s/step - det_loss: 0.3422 - cls_loss: 0.2669 - box_loss: 0.0015 - reg_l2_loss: 0.0792 - loss: 0.4214 - learning_rate: 0.0085 - gradient_norm: 3.0201 - val_det_loss: 0.3082 - val_cls_loss: 0.2175 - val_box_loss: 0.0018 - val_reg_l2_loss: 0.0792 - val_loss: 0.3874\n",
            "Epoch 27/100\n",
            "24/24 [==============================] - 326s 14s/step - det_loss: 0.3347 - cls_loss: 0.2546 - box_loss: 0.0016 - reg_l2_loss: 0.0792 - loss: 0.4139 - learning_rate: 0.0083 - gradient_norm: 3.6331 - val_det_loss: 0.2770 - val_cls_loss: 0.2232 - val_box_loss: 0.0011 - val_reg_l2_loss: 0.0792 - val_loss: 0.3562\n",
            "Epoch 28/100\n",
            "24/24 [==============================] - 327s 14s/step - det_loss: 0.3109 - cls_loss: 0.2423 - box_loss: 0.0014 - reg_l2_loss: 0.0792 - loss: 0.3902 - learning_rate: 0.0082 - gradient_norm: 3.2021 - val_det_loss: 0.3012 - val_cls_loss: 0.2383 - val_box_loss: 0.0013 - val_reg_l2_loss: 0.0793 - val_loss: 0.3805\n",
            "Epoch 29/100\n",
            "24/24 [==============================] - 329s 14s/step - det_loss: 0.2939 - cls_loss: 0.2330 - box_loss: 0.0012 - reg_l2_loss: 0.0793 - loss: 0.3732 - learning_rate: 0.0081 - gradient_norm: 2.7752 - val_det_loss: 0.2512 - val_cls_loss: 0.1988 - val_box_loss: 0.0010 - val_reg_l2_loss: 0.0793 - val_loss: 0.3305\n",
            "Epoch 30/100\n",
            "24/24 [==============================] - 330s 14s/step - det_loss: 0.2790 - cls_loss: 0.2214 - box_loss: 0.0012 - reg_l2_loss: 0.0793 - loss: 0.3582 - learning_rate: 0.0080 - gradient_norm: 2.4947 - val_det_loss: 0.2824 - val_cls_loss: 0.2126 - val_box_loss: 0.0014 - val_reg_l2_loss: 0.0793 - val_loss: 0.3617\n",
            "Epoch 31/100\n",
            "24/24 [==============================] - 330s 14s/step - det_loss: 0.2797 - cls_loss: 0.2264 - box_loss: 0.0011 - reg_l2_loss: 0.0793 - loss: 0.3590 - learning_rate: 0.0078 - gradient_norm: 2.6140 - val_det_loss: 0.2769 - val_cls_loss: 0.2019 - val_box_loss: 0.0015 - val_reg_l2_loss: 0.0793 - val_loss: 0.3562\n",
            "Epoch 32/100\n",
            "24/24 [==============================] - 326s 14s/step - det_loss: 0.2874 - cls_loss: 0.2293 - box_loss: 0.0012 - reg_l2_loss: 0.0793 - loss: 0.3667 - learning_rate: 0.0077 - gradient_norm: 2.8604 - val_det_loss: 0.2939 - val_cls_loss: 0.2318 - val_box_loss: 0.0012 - val_reg_l2_loss: 0.0793 - val_loss: 0.3732\n",
            "Epoch 33/100\n",
            "24/24 [==============================] - 327s 14s/step - det_loss: 0.2810 - cls_loss: 0.2194 - box_loss: 0.0012 - reg_l2_loss: 0.0793 - loss: 0.3603 - learning_rate: 0.0076 - gradient_norm: 2.8191 - val_det_loss: 0.2483 - val_cls_loss: 0.2019 - val_box_loss: 9.2776e-04 - val_reg_l2_loss: 0.0793 - val_loss: 0.3277\n",
            "Epoch 34/100\n",
            "24/24 [==============================] - 324s 14s/step - det_loss: 0.2664 - cls_loss: 0.2148 - box_loss: 0.0010 - reg_l2_loss: 0.0793 - loss: 0.3457 - learning_rate: 0.0074 - gradient_norm: 3.0828 - val_det_loss: 0.2525 - val_cls_loss: 0.1860 - val_box_loss: 0.0013 - val_reg_l2_loss: 0.0794 - val_loss: 0.3318\n",
            "Epoch 35/100\n",
            "24/24 [==============================] - 346s 14s/step - det_loss: 0.2936 - cls_loss: 0.2285 - box_loss: 0.0013 - reg_l2_loss: 0.0794 - loss: 0.3729 - learning_rate: 0.0073 - gradient_norm: 2.9705 - val_det_loss: 0.2881 - val_cls_loss: 0.2227 - val_box_loss: 0.0013 - val_reg_l2_loss: 0.0794 - val_loss: 0.3675\n",
            "Epoch 36/100\n",
            "24/24 [==============================] - 333s 14s/step - det_loss: 0.2891 - cls_loss: 0.2297 - box_loss: 0.0012 - reg_l2_loss: 0.0794 - loss: 0.3685 - learning_rate: 0.0071 - gradient_norm: 2.8457 - val_det_loss: 0.2818 - val_cls_loss: 0.2054 - val_box_loss: 0.0015 - val_reg_l2_loss: 0.0794 - val_loss: 0.3611\n",
            "Epoch 37/100\n",
            "24/24 [==============================] - 329s 14s/step - det_loss: 0.2714 - cls_loss: 0.2115 - box_loss: 0.0012 - reg_l2_loss: 0.0794 - loss: 0.3508 - learning_rate: 0.0070 - gradient_norm: 2.7728 - val_det_loss: 0.2577 - val_cls_loss: 0.1784 - val_box_loss: 0.0016 - val_reg_l2_loss: 0.0794 - val_loss: 0.3371\n",
            "Epoch 38/100\n",
            "24/24 [==============================] - 331s 14s/step - det_loss: 0.2233 - cls_loss: 0.1792 - box_loss: 8.8149e-04 - reg_l2_loss: 0.0794 - loss: 0.3027 - learning_rate: 0.0069 - gradient_norm: 1.9098 - val_det_loss: 0.2293 - val_cls_loss: 0.1819 - val_box_loss: 9.4910e-04 - val_reg_l2_loss: 0.0794 - val_loss: 0.3087\n",
            "Epoch 39/100\n",
            "24/24 [==============================] - 333s 14s/step - det_loss: 0.2374 - cls_loss: 0.1942 - box_loss: 8.6283e-04 - reg_l2_loss: 0.0794 - loss: 0.3168 - learning_rate: 0.0067 - gradient_norm: 2.0630 - val_det_loss: 0.2338 - val_cls_loss: 0.1706 - val_box_loss: 0.0013 - val_reg_l2_loss: 0.0794 - val_loss: 0.3132\n",
            "Epoch 40/100\n",
            "24/24 [==============================] - 332s 14s/step - det_loss: 0.2293 - cls_loss: 0.1840 - box_loss: 9.0660e-04 - reg_l2_loss: 0.0794 - loss: 0.3087 - learning_rate: 0.0066 - gradient_norm: 1.9862 - val_det_loss: 0.2239 - val_cls_loss: 0.1627 - val_box_loss: 0.0012 - val_reg_l2_loss: 0.0794 - val_loss: 0.3033\n",
            "Epoch 41/100\n",
            "24/24 [==============================] - 325s 14s/step - det_loss: 0.2364 - cls_loss: 0.1865 - box_loss: 9.9778e-04 - reg_l2_loss: 0.0794 - loss: 0.3158 - learning_rate: 0.0064 - gradient_norm: 2.1152 - val_det_loss: 0.2133 - val_cls_loss: 0.1660 - val_box_loss: 9.4659e-04 - val_reg_l2_loss: 0.0794 - val_loss: 0.2928\n",
            "Epoch 42/100\n",
            "24/24 [==============================] - 329s 14s/step - det_loss: 0.2175 - cls_loss: 0.1739 - box_loss: 8.7359e-04 - reg_l2_loss: 0.0794 - loss: 0.2969 - learning_rate: 0.0063 - gradient_norm: 2.1504 - val_det_loss: 0.2169 - val_cls_loss: 0.1685 - val_box_loss: 9.6920e-04 - val_reg_l2_loss: 0.0794 - val_loss: 0.2963\n",
            "Epoch 43/100\n",
            "24/24 [==============================] - 326s 14s/step - det_loss: 0.2324 - cls_loss: 0.1824 - box_loss: 0.0010 - reg_l2_loss: 0.0794 - loss: 0.3118 - learning_rate: 0.0061 - gradient_norm: 2.3465 - val_det_loss: 0.2149 - val_cls_loss: 0.1585 - val_box_loss: 0.0011 - val_reg_l2_loss: 0.0794 - val_loss: 0.2943\n",
            "Epoch 44/100\n",
            "24/24 [==============================] - 332s 14s/step - det_loss: 0.2309 - cls_loss: 0.1825 - box_loss: 9.6954e-04 - reg_l2_loss: 0.0794 - loss: 0.3103 - learning_rate: 0.0059 - gradient_norm: 2.5504 - val_det_loss: 0.2474 - val_cls_loss: 0.1732 - val_box_loss: 0.0015 - val_reg_l2_loss: 0.0794 - val_loss: 0.3268\n",
            "Epoch 45/100\n",
            "24/24 [==============================] - 328s 14s/step - det_loss: 0.2234 - cls_loss: 0.1768 - box_loss: 9.3215e-04 - reg_l2_loss: 0.0794 - loss: 0.3028 - learning_rate: 0.0058 - gradient_norm: 2.3341 - val_det_loss: 0.3134 - val_cls_loss: 0.2442 - val_box_loss: 0.0014 - val_reg_l2_loss: 0.0794 - val_loss: 0.3928\n",
            "Epoch 46/100\n",
            "24/24 [==============================] - 326s 14s/step - det_loss: 0.2186 - cls_loss: 0.1713 - box_loss: 9.4674e-04 - reg_l2_loss: 0.0794 - loss: 0.2980 - learning_rate: 0.0056 - gradient_norm: 2.1361 - val_det_loss: 0.2038 - val_cls_loss: 0.1552 - val_box_loss: 9.7096e-04 - val_reg_l2_loss: 0.0794 - val_loss: 0.2832\n",
            "Epoch 47/100\n",
            "24/24 [==============================] - 325s 14s/step - det_loss: 0.2128 - cls_loss: 0.1690 - box_loss: 8.7625e-04 - reg_l2_loss: 0.0794 - loss: 0.2922 - learning_rate: 0.0055 - gradient_norm: 2.0041 - val_det_loss: 0.2142 - val_cls_loss: 0.1580 - val_box_loss: 0.0011 - val_reg_l2_loss: 0.0794 - val_loss: 0.2937\n",
            "Epoch 48/100\n",
            "24/24 [==============================] - 327s 14s/step - det_loss: 0.2193 - cls_loss: 0.1793 - box_loss: 7.9967e-04 - reg_l2_loss: 0.0794 - loss: 0.2987 - learning_rate: 0.0053 - gradient_norm: 2.5880 - val_det_loss: 0.2471 - val_cls_loss: 0.1697 - val_box_loss: 0.0015 - val_reg_l2_loss: 0.0794 - val_loss: 0.3265\n",
            "Epoch 49/100\n",
            "24/24 [==============================] - 327s 14s/step - det_loss: 0.2114 - cls_loss: 0.1647 - box_loss: 9.3480e-04 - reg_l2_loss: 0.0794 - loss: 0.2908 - learning_rate: 0.0052 - gradient_norm: 2.2493 - val_det_loss: 0.2330 - val_cls_loss: 0.1642 - val_box_loss: 0.0014 - val_reg_l2_loss: 0.0794 - val_loss: 0.3124\n",
            "Epoch 50/100\n",
            "24/24 [==============================] - 328s 14s/step - det_loss: 0.2016 - cls_loss: 0.1637 - box_loss: 7.5879e-04 - reg_l2_loss: 0.0794 - loss: 0.2810 - learning_rate: 0.0050 - gradient_norm: 2.0027 - val_det_loss: 0.2064 - val_cls_loss: 0.1528 - val_box_loss: 0.0011 - val_reg_l2_loss: 0.0794 - val_loss: 0.2858\n",
            "Epoch 51/100\n",
            "24/24 [==============================] - 332s 14s/step - det_loss: 0.2076 - cls_loss: 0.1688 - box_loss: 7.7431e-04 - reg_l2_loss: 0.0794 - loss: 0.2870 - learning_rate: 0.0048 - gradient_norm: 2.2411 - val_det_loss: 0.2131 - val_cls_loss: 0.1639 - val_box_loss: 9.8545e-04 - val_reg_l2_loss: 0.0794 - val_loss: 0.2926\n",
            "Epoch 52/100\n",
            "24/24 [==============================] - 328s 14s/step - det_loss: 0.2118 - cls_loss: 0.1728 - box_loss: 7.8014e-04 - reg_l2_loss: 0.0794 - loss: 0.2913 - learning_rate: 0.0047 - gradient_norm: 2.2077 - val_det_loss: 0.2026 - val_cls_loss: 0.1522 - val_box_loss: 0.0010 - val_reg_l2_loss: 0.0794 - val_loss: 0.2821\n",
            "Epoch 53/100\n",
            "24/24 [==============================] - 325s 14s/step - det_loss: 0.2121 - cls_loss: 0.1702 - box_loss: 8.3772e-04 - reg_l2_loss: 0.0794 - loss: 0.2915 - learning_rate: 0.0045 - gradient_norm: 2.1532 - val_det_loss: 0.2046 - val_cls_loss: 0.1448 - val_box_loss: 0.0012 - val_reg_l2_loss: 0.0794 - val_loss: 0.2840\n",
            "Epoch 54/100\n",
            "24/24 [==============================] - 326s 14s/step - det_loss: 0.1975 - cls_loss: 0.1591 - box_loss: 7.6919e-04 - reg_l2_loss: 0.0794 - loss: 0.2770 - learning_rate: 0.0044 - gradient_norm: 1.7790 - val_det_loss: 0.2143 - val_cls_loss: 0.1427 - val_box_loss: 0.0014 - val_reg_l2_loss: 0.0794 - val_loss: 0.2938\n",
            "Epoch 55/100\n",
            "24/24 [==============================] - 328s 14s/step - det_loss: 0.1791 - cls_loss: 0.1480 - box_loss: 6.2241e-04 - reg_l2_loss: 0.0794 - loss: 0.2585 - learning_rate: 0.0042 - gradient_norm: 1.6604 - val_det_loss: 0.1946 - val_cls_loss: 0.1464 - val_box_loss: 9.6310e-04 - val_reg_l2_loss: 0.0794 - val_loss: 0.2740\n",
            "Epoch 56/100\n",
            "24/24 [==============================] - 329s 14s/step - det_loss: 0.1918 - cls_loss: 0.1535 - box_loss: 7.6645e-04 - reg_l2_loss: 0.0794 - loss: 0.2712 - learning_rate: 0.0041 - gradient_norm: 2.0292 - val_det_loss: 0.2105 - val_cls_loss: 0.1598 - val_box_loss: 0.0010 - val_reg_l2_loss: 0.0794 - val_loss: 0.2900\n",
            "Epoch 57/100\n",
            "24/24 [==============================] - 326s 14s/step - det_loss: 0.1955 - cls_loss: 0.1613 - box_loss: 6.8430e-04 - reg_l2_loss: 0.0794 - loss: 0.2750 - learning_rate: 0.0039 - gradient_norm: 2.3919 - val_det_loss: 0.2135 - val_cls_loss: 0.1657 - val_box_loss: 9.5682e-04 - val_reg_l2_loss: 0.0794 - val_loss: 0.2930\n",
            "Epoch 58/100\n",
            "24/24 [==============================] - 332s 14s/step - det_loss: 0.1829 - cls_loss: 0.1516 - box_loss: 6.2710e-04 - reg_l2_loss: 0.0794 - loss: 0.2624 - learning_rate: 0.0037 - gradient_norm: 1.8040 - val_det_loss: 0.2083 - val_cls_loss: 0.1599 - val_box_loss: 9.6680e-04 - val_reg_l2_loss: 0.0794 - val_loss: 0.2877\n",
            "Epoch 59/100\n",
            "24/24 [==============================] - 327s 14s/step - det_loss: 0.1922 - cls_loss: 0.1543 - box_loss: 7.5842e-04 - reg_l2_loss: 0.0794 - loss: 0.2717 - learning_rate: 0.0036 - gradient_norm: 1.9116 - val_det_loss: 0.1899 - val_cls_loss: 0.1480 - val_box_loss: 8.3918e-04 - val_reg_l2_loss: 0.0794 - val_loss: 0.2694\n",
            "Epoch 60/100\n",
            "24/24 [==============================] - 330s 14s/step - det_loss: 0.1823 - cls_loss: 0.1517 - box_loss: 6.1171e-04 - reg_l2_loss: 0.0794 - loss: 0.2617 - learning_rate: 0.0034 - gradient_norm: 2.0349 - val_det_loss: 0.1727 - val_cls_loss: 0.1309 - val_box_loss: 8.3671e-04 - val_reg_l2_loss: 0.0794 - val_loss: 0.2522\n",
            "Epoch 61/100\n",
            "24/24 [==============================] - 328s 14s/step - det_loss: 0.1953 - cls_loss: 0.1568 - box_loss: 7.7063e-04 - reg_l2_loss: 0.0794 - loss: 0.2747 - learning_rate: 0.0033 - gradient_norm: 2.0380 - val_det_loss: 0.1684 - val_cls_loss: 0.1282 - val_box_loss: 8.0322e-04 - val_reg_l2_loss: 0.0794 - val_loss: 0.2478\n",
            "Epoch 62/100\n",
            "24/24 [==============================] - 333s 14s/step - det_loss: 0.1819 - cls_loss: 0.1506 - box_loss: 6.2771e-04 - reg_l2_loss: 0.0794 - loss: 0.2614 - learning_rate: 0.0031 - gradient_norm: 1.8412 - val_det_loss: 0.2006 - val_cls_loss: 0.1526 - val_box_loss: 9.6104e-04 - val_reg_l2_loss: 0.0794 - val_loss: 0.2800\n",
            "Epoch 63/100\n",
            "24/24 [==============================] - 332s 14s/step - det_loss: 0.1808 - cls_loss: 0.1466 - box_loss: 6.8359e-04 - reg_l2_loss: 0.0794 - loss: 0.2602 - learning_rate: 0.0030 - gradient_norm: 1.8506 - val_det_loss: 0.1977 - val_cls_loss: 0.1480 - val_box_loss: 9.9327e-04 - val_reg_l2_loss: 0.0794 - val_loss: 0.2771\n",
            "Epoch 64/100\n",
            "24/24 [==============================] - 326s 14s/step - det_loss: 0.1695 - cls_loss: 0.1415 - box_loss: 5.5991e-04 - reg_l2_loss: 0.0794 - loss: 0.2489 - learning_rate: 0.0029 - gradient_norm: 1.7510 - val_det_loss: 0.1795 - val_cls_loss: 0.1395 - val_box_loss: 8.0073e-04 - val_reg_l2_loss: 0.0794 - val_loss: 0.2590\n",
            "Epoch 65/100\n",
            "24/24 [==============================] - 327s 14s/step - det_loss: 0.1666 - cls_loss: 0.1399 - box_loss: 5.3471e-04 - reg_l2_loss: 0.0794 - loss: 0.2461 - learning_rate: 0.0027 - gradient_norm: 1.6249 - val_det_loss: 0.1878 - val_cls_loss: 0.1423 - val_box_loss: 9.0994e-04 - val_reg_l2_loss: 0.0794 - val_loss: 0.2672\n",
            "Epoch 66/100\n",
            "24/24 [==============================] - 328s 14s/step - det_loss: 0.1721 - cls_loss: 0.1415 - box_loss: 6.1379e-04 - reg_l2_loss: 0.0794 - loss: 0.2516 - learning_rate: 0.0026 - gradient_norm: 1.7786 - val_det_loss: 0.2087 - val_cls_loss: 0.1568 - val_box_loss: 0.0010 - val_reg_l2_loss: 0.0794 - val_loss: 0.2881\n",
            "Epoch 67/100\n",
            "24/24 [==============================] - 330s 14s/step - det_loss: 0.1564 - cls_loss: 0.1322 - box_loss: 4.8352e-04 - reg_l2_loss: 0.0794 - loss: 0.2358 - learning_rate: 0.0024 - gradient_norm: 1.5468 - val_det_loss: 0.2140 - val_cls_loss: 0.1524 - val_box_loss: 0.0012 - val_reg_l2_loss: 0.0794 - val_loss: 0.2934\n",
            "Epoch 68/100\n",
            "24/24 [==============================] - 327s 14s/step - det_loss: 0.1722 - cls_loss: 0.1388 - box_loss: 6.6815e-04 - reg_l2_loss: 0.0794 - loss: 0.2516 - learning_rate: 0.0023 - gradient_norm: 2.0440 - val_det_loss: 0.2091 - val_cls_loss: 0.1516 - val_box_loss: 0.0012 - val_reg_l2_loss: 0.0794 - val_loss: 0.2885\n",
            "Epoch 69/100\n",
            "24/24 [==============================] - 337s 14s/step - det_loss: 0.1843 - cls_loss: 0.1544 - box_loss: 5.9851e-04 - reg_l2_loss: 0.0794 - loss: 0.2637 - learning_rate: 0.0022 - gradient_norm: 2.0491 - val_det_loss: 0.1977 - val_cls_loss: 0.1506 - val_box_loss: 9.4198e-04 - val_reg_l2_loss: 0.0794 - val_loss: 0.2771\n",
            "Epoch 70/100\n",
            "24/24 [==============================] - 328s 14s/step - det_loss: 0.1630 - cls_loss: 0.1345 - box_loss: 5.6977e-04 - reg_l2_loss: 0.0794 - loss: 0.2424 - learning_rate: 0.0020 - gradient_norm: 1.7642 - val_det_loss: 0.2219 - val_cls_loss: 0.1716 - val_box_loss: 0.0010 - val_reg_l2_loss: 0.0794 - val_loss: 0.3013\n",
            "Epoch 71/100\n",
            "24/24 [==============================] - 328s 14s/step - det_loss: 0.1510 - cls_loss: 0.1282 - box_loss: 4.5694e-04 - reg_l2_loss: 0.0794 - loss: 0.2304 - learning_rate: 0.0019 - gradient_norm: 1.3758 - val_det_loss: 0.2076 - val_cls_loss: 0.1510 - val_box_loss: 0.0011 - val_reg_l2_loss: 0.0794 - val_loss: 0.2870\n",
            "Epoch 72/100\n",
            "24/24 [==============================] - 330s 14s/step - det_loss: 0.1843 - cls_loss: 0.1506 - box_loss: 6.7344e-04 - reg_l2_loss: 0.0794 - loss: 0.2637 - learning_rate: 0.0018 - gradient_norm: 1.8619 - val_det_loss: 0.2215 - val_cls_loss: 0.1639 - val_box_loss: 0.0012 - val_reg_l2_loss: 0.0794 - val_loss: 0.3009\n",
            "Epoch 73/100\n",
            "24/24 [==============================] - 336s 14s/step - det_loss: 0.1612 - cls_loss: 0.1324 - box_loss: 5.7538e-04 - reg_l2_loss: 0.0794 - loss: 0.2406 - learning_rate: 0.0017 - gradient_norm: 1.7991 - val_det_loss: 0.1998 - val_cls_loss: 0.1453 - val_box_loss: 0.0011 - val_reg_l2_loss: 0.0794 - val_loss: 0.2793\n",
            "Epoch 74/100\n",
            "24/24 [==============================] - 328s 14s/step - det_loss: 0.1637 - cls_loss: 0.1367 - box_loss: 5.3912e-04 - reg_l2_loss: 0.0794 - loss: 0.2431 - learning_rate: 0.0015 - gradient_norm: 1.5282 - val_det_loss: 0.2084 - val_cls_loss: 0.1549 - val_box_loss: 0.0011 - val_reg_l2_loss: 0.0794 - val_loss: 0.2878\n",
            "Epoch 75/100\n",
            "24/24 [==============================] - 331s 14s/step - det_loss: 0.1786 - cls_loss: 0.1477 - box_loss: 6.1761e-04 - reg_l2_loss: 0.0794 - loss: 0.2580 - learning_rate: 0.0014 - gradient_norm: 1.7338 - val_det_loss: 0.1983 - val_cls_loss: 0.1526 - val_box_loss: 9.1390e-04 - val_reg_l2_loss: 0.0794 - val_loss: 0.2777\n",
            "Epoch 76/100\n",
            "24/24 [==============================] - 328s 14s/step - det_loss: 0.1678 - cls_loss: 0.1383 - box_loss: 5.9044e-04 - reg_l2_loss: 0.0794 - loss: 0.2472 - learning_rate: 0.0013 - gradient_norm: 1.6964 - val_det_loss: 0.1972 - val_cls_loss: 0.1507 - val_box_loss: 9.3109e-04 - val_reg_l2_loss: 0.0794 - val_loss: 0.2766\n",
            "Epoch 77/100\n",
            "24/24 [==============================] - 332s 14s/step - det_loss: 0.1664 - cls_loss: 0.1388 - box_loss: 5.5179e-04 - reg_l2_loss: 0.0794 - loss: 0.2458 - learning_rate: 0.0012 - gradient_norm: 1.7147 - val_det_loss: 0.2108 - val_cls_loss: 0.1619 - val_box_loss: 9.7895e-04 - val_reg_l2_loss: 0.0794 - val_loss: 0.2902\n",
            "Epoch 78/100\n",
            "24/24 [==============================] - 328s 14s/step - det_loss: 0.1605 - cls_loss: 0.1333 - box_loss: 5.4367e-04 - reg_l2_loss: 0.0794 - loss: 0.2399 - learning_rate: 0.0011 - gradient_norm: 1.6567 - val_det_loss: 0.2117 - val_cls_loss: 0.1571 - val_box_loss: 0.0011 - val_reg_l2_loss: 0.0794 - val_loss: 0.2911\n",
            "Epoch 79/100\n",
            "24/24 [==============================] - 332s 14s/step - det_loss: 0.1609 - cls_loss: 0.1362 - box_loss: 4.9449e-04 - reg_l2_loss: 0.0794 - loss: 0.2403 - learning_rate: 0.0010 - gradient_norm: 1.8355 - val_det_loss: 0.1976 - val_cls_loss: 0.1447 - val_box_loss: 0.0011 - val_reg_l2_loss: 0.0794 - val_loss: 0.2771\n",
            "Epoch 80/100\n",
            "24/24 [==============================] - 330s 14s/step - det_loss: 0.1555 - cls_loss: 0.1313 - box_loss: 4.8439e-04 - reg_l2_loss: 0.0794 - loss: 0.2349 - learning_rate: 9.2746e-04 - gradient_norm: 1.6621 - val_det_loss: 0.1990 - val_cls_loss: 0.1495 - val_box_loss: 9.8930e-04 - val_reg_l2_loss: 0.0794 - val_loss: 0.2784\n",
            "Epoch 81/100\n",
            "24/24 [==============================] - 337s 14s/step - det_loss: 0.1570 - cls_loss: 0.1319 - box_loss: 5.0154e-04 - reg_l2_loss: 0.0794 - loss: 0.2364 - learning_rate: 8.3748e-04 - gradient_norm: 1.5445 - val_det_loss: 0.1982 - val_cls_loss: 0.1490 - val_box_loss: 9.8284e-04 - val_reg_l2_loss: 0.0794 - val_loss: 0.2776\n",
            "Epoch 82/100\n",
            "24/24 [==============================] - 330s 14s/step - det_loss: 0.1540 - cls_loss: 0.1305 - box_loss: 4.7117e-04 - reg_l2_loss: 0.0794 - loss: 0.2334 - learning_rate: 7.5170e-04 - gradient_norm: 1.5845 - val_det_loss: 0.2016 - val_cls_loss: 0.1532 - val_box_loss: 9.6710e-04 - val_reg_l2_loss: 0.0794 - val_loss: 0.2810\n",
            "Epoch 83/100\n",
            "24/24 [==============================] - 332s 14s/step - det_loss: 0.1510 - cls_loss: 0.1266 - box_loss: 4.8879e-04 - reg_l2_loss: 0.0794 - loss: 0.2304 - learning_rate: 6.7020e-04 - gradient_norm: 1.6382 - val_det_loss: 0.1990 - val_cls_loss: 0.1512 - val_box_loss: 9.5567e-04 - val_reg_l2_loss: 0.0794 - val_loss: 0.2784\n",
            "Epoch 84/100\n",
            "24/24 [==============================] - 329s 14s/step - det_loss: 0.1554 - cls_loss: 0.1321 - box_loss: 4.6693e-04 - reg_l2_loss: 0.0794 - loss: 0.2348 - learning_rate: 5.9305e-04 - gradient_norm: 1.6251 - val_det_loss: 0.1989 - val_cls_loss: 0.1497 - val_box_loss: 9.8363e-04 - val_reg_l2_loss: 0.0794 - val_loss: 0.2783\n",
            "Epoch 85/100\n",
            "24/24 [==============================] - 338s 14s/step - det_loss: 0.1400 - cls_loss: 0.1190 - box_loss: 4.1996e-04 - reg_l2_loss: 0.0794 - loss: 0.2194 - learning_rate: 5.2035e-04 - gradient_norm: 1.2766 - val_det_loss: 0.1930 - val_cls_loss: 0.1494 - val_box_loss: 8.7145e-04 - val_reg_l2_loss: 0.0794 - val_loss: 0.2724\n",
            "Epoch 86/100\n",
            "24/24 [==============================] - 329s 14s/step - det_loss: 0.1508 - cls_loss: 0.1280 - box_loss: 4.5530e-04 - reg_l2_loss: 0.0794 - loss: 0.2302 - learning_rate: 4.5215e-04 - gradient_norm: 1.6045 - val_det_loss: 0.1944 - val_cls_loss: 0.1459 - val_box_loss: 9.7077e-04 - val_reg_l2_loss: 0.0794 - val_loss: 0.2738\n",
            "Epoch 87/100\n",
            "24/24 [==============================] - 330s 14s/step - det_loss: 0.1499 - cls_loss: 0.1264 - box_loss: 4.6976e-04 - reg_l2_loss: 0.0794 - loss: 0.2293 - learning_rate: 3.8854e-04 - gradient_norm: 1.5056 - val_det_loss: 0.1958 - val_cls_loss: 0.1459 - val_box_loss: 9.9962e-04 - val_reg_l2_loss: 0.0794 - val_loss: 0.2752\n",
            "Epoch 88/100\n",
            "24/24 [==============================] - 332s 14s/step - det_loss: 0.1623 - cls_loss: 0.1389 - box_loss: 4.6615e-04 - reg_l2_loss: 0.0794 - loss: 0.2417 - learning_rate: 3.2956e-04 - gradient_norm: 1.5511 - val_det_loss: 0.1944 - val_cls_loss: 0.1471 - val_box_loss: 9.4627e-04 - val_reg_l2_loss: 0.0794 - val_loss: 0.2738\n",
            "Epoch 89/100\n",
            "24/24 [==============================] - 336s 14s/step - det_loss: 0.1456 - cls_loss: 0.1242 - box_loss: 4.2638e-04 - reg_l2_loss: 0.0794 - loss: 0.2250 - learning_rate: 2.7529e-04 - gradient_norm: 1.3757 - val_det_loss: 0.1924 - val_cls_loss: 0.1456 - val_box_loss: 9.3675e-04 - val_reg_l2_loss: 0.0794 - val_loss: 0.2718\n",
            "Epoch 90/100\n",
            "24/24 [==============================] - 329s 14s/step - det_loss: 0.1505 - cls_loss: 0.1270 - box_loss: 4.7053e-04 - reg_l2_loss: 0.0794 - loss: 0.2299 - learning_rate: 2.2578e-04 - gradient_norm: 1.4761 - val_det_loss: 0.1892 - val_cls_loss: 0.1427 - val_box_loss: 9.3018e-04 - val_reg_l2_loss: 0.0794 - val_loss: 0.2686\n",
            "Epoch 91/100\n",
            "24/24 [==============================] - 329s 14s/step - det_loss: 0.1520 - cls_loss: 0.1281 - box_loss: 4.7897e-04 - reg_l2_loss: 0.0794 - loss: 0.2314 - learning_rate: 1.8107e-04 - gradient_norm: 1.5019 - val_det_loss: 0.1891 - val_cls_loss: 0.1410 - val_box_loss: 9.6077e-04 - val_reg_l2_loss: 0.0794 - val_loss: 0.2685\n",
            "Epoch 92/100\n",
            "24/24 [==============================] - 331s 14s/step - det_loss: 0.1513 - cls_loss: 0.1290 - box_loss: 4.4525e-04 - reg_l2_loss: 0.0794 - loss: 0.2307 - learning_rate: 1.4122e-04 - gradient_norm: 1.5871 - val_det_loss: 0.1892 - val_cls_loss: 0.1413 - val_box_loss: 9.5705e-04 - val_reg_l2_loss: 0.0794 - val_loss: 0.2686\n",
            "Epoch 93/100\n",
            "24/24 [==============================] - 334s 14s/step - det_loss: 0.1420 - cls_loss: 0.1218 - box_loss: 4.0461e-04 - reg_l2_loss: 0.0794 - loss: 0.2214 - learning_rate: 1.0626e-04 - gradient_norm: 1.3492 - val_det_loss: 0.1871 - val_cls_loss: 0.1411 - val_box_loss: 9.1974e-04 - val_reg_l2_loss: 0.0794 - val_loss: 0.2665\n",
            "Epoch 94/100\n",
            "24/24 [==============================] - 330s 14s/step - det_loss: 0.1509 - cls_loss: 0.1263 - box_loss: 4.9199e-04 - reg_l2_loss: 0.0794 - loss: 0.2303 - learning_rate: 7.6227e-05 - gradient_norm: 1.5273 - val_det_loss: 0.1874 - val_cls_loss: 0.1411 - val_box_loss: 9.2586e-04 - val_reg_l2_loss: 0.0794 - val_loss: 0.2668\n",
            "Epoch 95/100\n",
            "24/24 [==============================] - 328s 14s/step - det_loss: 0.1550 - cls_loss: 0.1312 - box_loss: 4.7768e-04 - reg_l2_loss: 0.0794 - loss: 0.2344 - learning_rate: 5.1151e-05 - gradient_norm: 1.4785 - val_det_loss: 0.1893 - val_cls_loss: 0.1416 - val_box_loss: 9.5425e-04 - val_reg_l2_loss: 0.0794 - val_loss: 0.2687\n",
            "Epoch 96/100\n",
            "24/24 [==============================] - 333s 14s/step - det_loss: 0.1561 - cls_loss: 0.1302 - box_loss: 5.1778e-04 - reg_l2_loss: 0.0794 - loss: 0.2355 - learning_rate: 3.1059e-05 - gradient_norm: 1.4811 - val_det_loss: 0.1895 - val_cls_loss: 0.1417 - val_box_loss: 9.5577e-04 - val_reg_l2_loss: 0.0794 - val_loss: 0.2689\n",
            "Epoch 97/100\n",
            "24/24 [==============================] - 331s 14s/step - det_loss: 0.1626 - cls_loss: 0.1369 - box_loss: 5.1352e-04 - reg_l2_loss: 0.0794 - loss: 0.2420 - learning_rate: 1.5970e-05 - gradient_norm: 1.6573 - val_det_loss: 0.1896 - val_cls_loss: 0.1419 - val_box_loss: 9.5404e-04 - val_reg_l2_loss: 0.0794 - val_loss: 0.2690\n",
            "Epoch 98/100\n",
            "24/24 [==============================] - 331s 14s/step - det_loss: 0.1529 - cls_loss: 0.1308 - box_loss: 4.4133e-04 - reg_l2_loss: 0.0794 - loss: 0.2323 - learning_rate: 5.8988e-06 - gradient_norm: 1.4948 - val_det_loss: 0.1895 - val_cls_loss: 0.1419 - val_box_loss: 9.5294e-04 - val_reg_l2_loss: 0.0794 - val_loss: 0.2689\n",
            "Epoch 99/100\n",
            "24/24 [==============================] - 336s 14s/step - det_loss: 0.1542 - cls_loss: 0.1306 - box_loss: 4.7239e-04 - reg_l2_loss: 0.0794 - loss: 0.2336 - learning_rate: 8.5682e-07 - gradient_norm: 1.5119 - val_det_loss: 0.1898 - val_cls_loss: 0.1418 - val_box_loss: 9.5905e-04 - val_reg_l2_loss: 0.0794 - val_loss: 0.2692\n",
            "Epoch 100/100\n",
            "24/24 [==============================] - 332s 14s/step - det_loss: 0.1461 - cls_loss: 0.1245 - box_loss: 4.3057e-04 - reg_l2_loss: 0.0794 - loss: 0.2255 - learning_rate: 8.4841e-07 - gradient_norm: 1.7039 - val_det_loss: 0.1896 - val_cls_loss: 0.1418 - val_box_loss: 9.5614e-04 - val_reg_l2_loss: 0.0794 - val_loss: 0.2690\n"
          ]
        }
      ]
    },
    {
      "cell_type": "code",
      "metadata": {
        "colab": {
          "base_uri": "https://localhost:8080/"
        },
        "id": "8xmnl6Yy7ARn",
        "outputId": "07cfb778-a609-476a-a94e-873880ab1a86"
      },
      "source": [
        " model.evaluate(validation_data)"
      ],
      "execution_count": null,
      "outputs": [
        {
          "output_type": "stream",
          "name": "stdout",
          "text": [
            "\r1/1 [==============================] - 27s 27s/step\n",
            "\n"
          ]
        },
        {
          "output_type": "execute_result",
          "data": {
            "text/plain": [
              "{'AP': 0.885049,\n",
              " 'AP50': 1.0,\n",
              " 'AP75': 1.0,\n",
              " 'AP_/Bathroom': 0.95049506,\n",
              " 'AP_/Call': 0.7056106,\n",
              " 'AP_/Doctor': 0.91262376,\n",
              " 'AP_/Fire': 0.9,\n",
              " 'AP_/Hello': 0.98349833,\n",
              " 'AP_/Help': 1.0,\n",
              " 'AP_/Hospital': 0.92524755,\n",
              " 'AP_/How are you?': 0.83029705,\n",
              " 'AP_/Hurt': 0.910099,\n",
              " 'AP_/I am Fine': 0.9168317,\n",
              " 'AP_/No': 0.8328637,\n",
              " 'AP_/Sick': 0.91262376,\n",
              " 'AP_/Sorry': 0.8252475,\n",
              " 'AP_/Thanks': 0.8,\n",
              " 'AP_/Yes': 0.870297,\n",
              " 'APl': 0.885049,\n",
              " 'APm': -1.0,\n",
              " 'APs': -1.0,\n",
              " 'ARl': 0.91333336,\n",
              " 'ARm': -1.0,\n",
              " 'ARmax1': 0.8833333,\n",
              " 'ARmax10': 0.91333336,\n",
              " 'ARmax100': 0.91333336,\n",
              " 'ARs': -1.0}"
            ]
          },
          "metadata": {},
          "execution_count": 9
        }
      ]
    },
    {
      "cell_type": "code",
      "metadata": {
        "id": "Hm_UULdW7A9T"
      },
      "source": [
        "model.export(export_dir='.')"
      ],
      "execution_count": null,
      "outputs": []
    },
    {
      "cell_type": "code",
      "metadata": {
        "colab": {
          "base_uri": "https://localhost:8080/"
        },
        "id": "iHYDWcljr6jq",
        "outputId": "c26b5e47-8d50-4aa5-9ee2-b83c06cf3182"
      },
      "source": [
        "model.evaluate_tflite('/model.tflite', validation_data)"
      ],
      "execution_count": null,
      "outputs": [
        {
          "output_type": "stream",
          "name": "stdout",
          "text": [
            "30/30 [==============================] - 292s 10s/step\n",
            "\n"
          ]
        },
        {
          "output_type": "execute_result",
          "data": {
            "text/plain": [
              "{'AP': 0.88854784,\n",
              " 'AP50': 1.0,\n",
              " 'AP75': 1.0,\n",
              " 'AP_/Bathroom': 0.9009901,\n",
              " 'AP_/Call': 0.7,\n",
              " 'AP_/Doctor': 0.95049506,\n",
              " 'AP_/Fire': 0.9,\n",
              " 'AP_/Hello': 0.9,\n",
              " 'AP_/Help': 1.0,\n",
              " 'AP_/Hospital': 0.92524755,\n",
              " 'AP_/How are you?': 0.9,\n",
              " 'AP_/Hurt': 0.9,\n",
              " 'AP_/I am Fine': 0.92524755,\n",
              " 'AP_/No': 0.85049504,\n",
              " 'AP_/Sick': 0.92524755,\n",
              " 'AP_/Sorry': 0.9,\n",
              " 'AP_/Thanks': 0.8,\n",
              " 'AP_/Yes': 0.85049504,\n",
              " 'APl': 0.88854784,\n",
              " 'APm': -1.0,\n",
              " 'APs': -1.0,\n",
              " 'ARl': 0.89666665,\n",
              " 'ARm': -1.0,\n",
              " 'ARmax1': 0.89666665,\n",
              " 'ARmax10': 0.89666665,\n",
              " 'ARmax100': 0.89666665,\n",
              " 'ARs': -1.0}"
            ]
          },
          "metadata": {},
          "execution_count": 11
        }
      ]
    },
    {
      "cell_type": "code",
      "metadata": {
        "id": "1wKvemXVjQ22"
      },
      "source": [],
      "execution_count": null,
      "outputs": []
    }
  ]
}